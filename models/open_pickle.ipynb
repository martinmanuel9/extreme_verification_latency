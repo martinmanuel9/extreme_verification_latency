{
 "cells": [
  {
   "cell_type": "code",
   "execution_count": 1,
   "metadata": {},
   "outputs": [
    {
     "name": "stdout",
     "output_type": "stream",
     "text": [
      "                          0                                                  1\n",
      "0                   Dataset                                           UG_2C_2D\n",
      "1                Classifier                                  label_propagation\n",
      "2                    Method                                            compose\n",
      "3                 Avg_Error                                 0.1657079566517205\n",
      "4              Avg_Accuracy                                   0.83429204334828\n",
      "5         Avg_Exec_Time_Sec                                0.04262831687927246\n",
      "6         Avg_Exec_Time_Min                                            0.00071\n",
      "7         Avg_ROC_AUC_Score                                 0.7369618367238416\n",
      "8              Avg_F1_Score           [0.5862006448165209, 0.8957001839285987]\n",
      "9   Avg_Matthews_Corr_Coeff                                0.48894281026530145\n",
      "10      Total_Exec_Time_Sec                                          63.172724\n",
      "11      Total_Exec_Time_Min                                           1.052879\n",
      "12                Timesteps  [0, 1, 2, 3, 4, 5, 6, 7, 8, 9, 10, 11, 12, 13,...\n",
      "13                 Accuracy  [0.7687687687687688, 0.7984251968503937, 0.900...\n",
      "14               Experiment                          compose_label_propagation\n",
      "15               Time_Stamp                                  20221227-22:07:34 \n",
      "\n",
      "                          0                                                  1\n",
      "0                   Dataset                                           MG_2C_2D\n",
      "1                Classifier                                  label_propagation\n",
      "2                    Method                                            compose\n",
      "3                 Avg_Error                                0.18033808939176488\n",
      "4              Avg_Accuracy                                 0.8196619106082348\n",
      "5         Avg_Exec_Time_Sec                                0.04765543937683105\n",
      "6         Avg_Exec_Time_Min                                           0.000794\n",
      "7         Avg_ROC_AUC_Score                                 0.7737907431346622\n",
      "8              Avg_F1_Score           [0.6088658420789039, 0.8794478610910245]\n",
      "9   Avg_Matthews_Corr_Coeff                                 0.5062374436120893\n",
      "10      Total_Exec_Time_Sec                                          84.113579\n",
      "11      Total_Exec_Time_Min                                           1.401893\n",
      "12                Timesteps  [0, 1, 2, 3, 4, 5, 6, 7, 8, 9, 10, 11, 12, 13,...\n",
      "13                 Accuracy  [0.7706146926536732, 0.8473479948253557, 0.904...\n",
      "14               Experiment                          compose_label_propagation\n",
      "15               Time_Stamp                                  20221227-22:08:59 \n",
      "\n",
      "                          0                                                  1\n",
      "0                   Dataset                                               1CDT\n",
      "1                Classifier                                  label_propagation\n",
      "2                    Method                                            compose\n",
      "3                 Avg_Error                                 0.1828919518065618\n",
      "4              Avg_Accuracy                                 0.8171080481934376\n",
      "5         Avg_Exec_Time_Sec                                0.04032855987548828\n",
      "6         Avg_Exec_Time_Min                                           0.000672\n",
      "7         Avg_ROC_AUC_Score                                 0.7238197991161234\n",
      "8              Avg_F1_Score           [0.5449473863470929, 0.8839157571183129]\n",
      "9   Avg_Matthews_Corr_Coeff                                0.43801402282372676\n",
      "10      Total_Exec_Time_Sec                                          65.550749\n",
      "11      Total_Exec_Time_Min                                           1.092512\n",
      "12                Timesteps  [0, 1, 2, 3, 4, 5, 6, 7, 8, 9, 10, 11, 12, 13,...\n",
      "13                 Accuracy  [0.7779433681073025, 0.8350649350649351, 0.872...\n",
      "14               Experiment                          compose_label_propagation\n",
      "15               Time_Stamp                                  20221227-22:10:05 \n",
      "\n",
      "                          0                                                  1\n",
      "0                   Dataset                                               2CDT\n",
      "1                Classifier                                  label_propagation\n",
      "2                    Method                                            compose\n",
      "3                 Avg_Error                                0.17350236875594857\n",
      "4              Avg_Accuracy                                 0.8264976312440511\n",
      "5         Avg_Exec_Time_Sec                               0.045511236190795896\n",
      "6         Avg_Exec_Time_Min                                           0.000759\n",
      "7         Avg_ROC_AUC_Score                                 0.8046190482051689\n",
      "8              Avg_F1_Score           [0.6475293614269358, 0.8813408180184397]\n",
      "9   Avg_Matthews_Corr_Coeff                                  0.562103370751044\n",
      "10      Total_Exec_Time_Sec                                          69.066946\n",
      "11      Total_Exec_Time_Min                                           1.151116\n",
      "12                Timesteps  [0, 1, 2, 3, 4, 5, 6, 7, 8, 9, 10, 11, 12, 13,...\n",
      "13                 Accuracy  [0.7650602409638554, 0.8459715639810427, 0.901...\n",
      "14               Experiment                          compose_label_propagation\n",
      "15               Time_Stamp                                  20221227-22:11:15 \n",
      "\n"
     ]
    },
    {
     "ename": "AttributeError",
     "evalue": "Can't get attribute '_unpickle_block' on <module 'pandas._libs.internals' from '/home/martinmlopez/anaconda3/envs/pyvenv/lib/python3.9/site-packages/pandas/_libs/internals.cpython-39-x86_64-linux-gnu.so'>",
     "output_type": "error",
     "traceback": [
      "\u001b[0;31m---------------------------------------------------------------------------\u001b[0m",
      "\u001b[0;31mAttributeError\u001b[0m                            Traceback (most recent call last)",
      "\u001b[0;32m/tmp/ipykernel_46640/1432513169.py\u001b[0m in \u001b[0;36m<module>\u001b[0;34m\u001b[0m\n\u001b[0;32m----> 1\u001b[0;31m \u001b[0;32mimport\u001b[0m \u001b[0mopenpickel\u001b[0m\u001b[0;34m\u001b[0m\u001b[0;34m\u001b[0m\u001b[0m\n\u001b[0m\u001b[1;32m      2\u001b[0m \u001b[0;34m\u001b[0m\u001b[0m\n\u001b[1;32m      3\u001b[0m \u001b[0mopenpickel\u001b[0m\u001b[0;34m.\u001b[0m\u001b[0mOpenResults\u001b[0m\u001b[0;34m(\u001b[0m\u001b[0;34m)\u001b[0m\u001b[0;34m\u001b[0m\u001b[0;34m\u001b[0m\u001b[0m\n",
      "\u001b[0;32m~/extreme_verification_latency/models/openpickel.py\u001b[0m in \u001b[0;36m<module>\u001b[0;34m\u001b[0m\n\u001b[1;32m     82\u001b[0m \u001b[0;34m\u001b[0m\u001b[0m\n\u001b[1;32m     83\u001b[0m \u001b[0mopen_results\u001b[0m \u001b[0;34m=\u001b[0m \u001b[0mOpenResults\u001b[0m\u001b[0;34m(\u001b[0m\u001b[0;34m)\u001b[0m\u001b[0;34m\u001b[0m\u001b[0;34m\u001b[0m\u001b[0m\n\u001b[0;32m---> 84\u001b[0;31m \u001b[0mopen_results\u001b[0m\u001b[0;34m.\u001b[0m\u001b[0mrun\u001b[0m\u001b[0;34m(\u001b[0m\u001b[0;34m)\u001b[0m\u001b[0;34m\u001b[0m\u001b[0;34m\u001b[0m\u001b[0m\n\u001b[0m\u001b[1;32m     85\u001b[0m \u001b[0;31m# %%\u001b[0m\u001b[0;34m\u001b[0m\u001b[0;34m\u001b[0m\u001b[0m\n",
      "\u001b[0;32m~/extreme_verification_latency/models/openpickel.py\u001b[0m in \u001b[0;36mrun\u001b[0;34m(self)\u001b[0m\n\u001b[1;32m     53\u001b[0m         \u001b[0mlist_dir\u001b[0m \u001b[0;34m=\u001b[0m \u001b[0mos\u001b[0m\u001b[0;34m.\u001b[0m\u001b[0mlistdir\u001b[0m\u001b[0;34m(\u001b[0m\u001b[0mpath\u001b[0m\u001b[0;34m)\u001b[0m\u001b[0;34m\u001b[0m\u001b[0;34m\u001b[0m\u001b[0m\n\u001b[1;32m     54\u001b[0m         \u001b[0;32mfor\u001b[0m \u001b[0mi\u001b[0m \u001b[0;32min\u001b[0m \u001b[0mrange\u001b[0m\u001b[0;34m(\u001b[0m\u001b[0mlen\u001b[0m\u001b[0;34m(\u001b[0m\u001b[0mlist_dir\u001b[0m\u001b[0;34m)\u001b[0m\u001b[0;34m)\u001b[0m\u001b[0;34m:\u001b[0m\u001b[0;34m\u001b[0m\u001b[0;34m\u001b[0m\u001b[0m\n\u001b[0;32m---> 55\u001b[0;31m             \u001b[0mresult\u001b[0m \u001b[0;34m=\u001b[0m \u001b[0mpickle\u001b[0m\u001b[0;34m.\u001b[0m\u001b[0mload\u001b[0m\u001b[0;34m(\u001b[0m\u001b[0mopen\u001b[0m\u001b[0;34m(\u001b[0m\u001b[0mlist_dir\u001b[0m\u001b[0;34m[\u001b[0m\u001b[0mi\u001b[0m\u001b[0;34m]\u001b[0m\u001b[0;34m,\u001b[0m \u001b[0;34m\"rb\"\u001b[0m\u001b[0;34m)\u001b[0m\u001b[0;34m)\u001b[0m\u001b[0;34m\u001b[0m\u001b[0;34m\u001b[0m\u001b[0m\n\u001b[0m\u001b[1;32m     56\u001b[0m             \u001b[0mprint\u001b[0m\u001b[0;34m(\u001b[0m\u001b[0mresult\u001b[0m\u001b[0;34m,\u001b[0m \u001b[0;34m\"\\n\"\u001b[0m\u001b[0;34m)\u001b[0m\u001b[0;34m\u001b[0m\u001b[0;34m\u001b[0m\u001b[0m\n\u001b[1;32m     57\u001b[0m \u001b[0;34m\u001b[0m\u001b[0m\n",
      "\u001b[0;31mAttributeError\u001b[0m: Can't get attribute '_unpickle_block' on <module 'pandas._libs.internals' from '/home/martinmlopez/anaconda3/envs/pyvenv/lib/python3.9/site-packages/pandas/_libs/internals.cpython-39-x86_64-linux-gnu.so'>"
     ]
    }
   ],
   "source": [
    "import openpickel\n",
    "\n",
    "openpickel.OpenResults()\n"
   ]
  },
  {
   "cell_type": "code",
   "execution_count": null,
   "metadata": {},
   "outputs": [],
   "source": []
  }
 ],
 "metadata": {
  "kernelspec": {
   "display_name": "Python 3 (ipykernel)",
   "language": "python",
   "name": "python3"
  },
  "language_info": {
   "codemirror_mode": {
    "name": "ipython",
    "version": 3
   },
   "file_extension": ".py",
   "mimetype": "text/x-python",
   "name": "python",
   "nbconvert_exporter": "python",
   "pygments_lexer": "ipython3",
   "version": "3.9.7"
  },
  "vscode": {
   "interpreter": {
    "hash": "498fa542aeec39e71c0563a1c98a56334658ba68f734d21c43e8bf124fe4c396"
   }
  }
 },
 "nbformat": 4,
 "nbformat_minor": 2
}
