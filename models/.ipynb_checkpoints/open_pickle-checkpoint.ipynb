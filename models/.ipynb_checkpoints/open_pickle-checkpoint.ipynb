{
 "cells": [
  {
   "cell_type": "code",
   "execution_count": 1,
   "metadata": {},
   "outputs": [
    {
     "name": "stdout",
     "output_type": "stream",
     "text": [
      "                          0                                                  1\n",
      "0                   Dataset                                           UG_2C_2D\n",
      "1                Classifier                                  label_propagation\n",
      "2                    Method                                            compose\n",
      "3                 Avg_Error                                0.10921720057364065\n",
      "4              Avg_Accuracy                                 0.8907827994263595\n",
      "5         Avg_Exec_Time_Sec                               0.039449850718180336\n",
      "6         Avg_Exec_Time_Min                                           0.000657\n",
      "7         Avg_ROC_AUC_Score                                                0.5\n",
      "8              Avg_F1_Score                          [0.9420612233110764, 0.0]\n",
      "9   Avg_Matthews_Corr_Coeff                                                0.0\n",
      "10      Total_Exec_Time_Sec                                         321.070613\n",
      "11      Total_Exec_Time_Min                                           5.351177\n",
      "12                Timesteps  [0, 1, 2, 3, 4, 5, 6, 7, 8, 9, 10, 11, 12, 13,...\n",
      "13                 Accuracy  [0.6783625730994152, 0.8083623693379791, 0.893...\n",
      "14               Time_Stamp                                  20221104-20:54:16 \n",
      "\n",
      "                          0                                                  1\n",
      "0                   Dataset                                           MG_2C_2D\n",
      "1                Classifier                                  label_propagation\n",
      "2                    Method                                            compose\n",
      "3                 Avg_Error                                 0.1002107942187794\n",
      "4              Avg_Accuracy                                 0.8997892057812203\n",
      "5         Avg_Exec_Time_Sec                                0.09896078495064167\n",
      "6         Avg_Exec_Time_Min                                           0.001649\n",
      "7         Avg_ROC_AUC_Score                                                0.5\n",
      "8              Avg_F1_Score                          [0.9470992840631062, 0.0]\n",
      "9   Avg_Matthews_Corr_Coeff                                                0.0\n",
      "10      Total_Exec_Time_Sec                                         706.505607\n",
      "11      Total_Exec_Time_Min                                          11.775093\n",
      "12                Timesteps  [0, 1, 2, 3, 4, 5, 6, 7, 8, 9, 10, 11, 12, 13,...\n",
      "13                 Accuracy  [0.6995708154506437, 0.8232323232323232, 0.902...\n",
      "14               Time_Stamp                                  20221104-21:06:02 \n",
      "\n",
      "                          0                                                  1\n",
      "0                   Dataset                                               1CDT\n",
      "1                Classifier                                  label_propagation\n",
      "2                    Method                                            compose\n",
      "3                 Avg_Error                                0.08282717462080337\n",
      "4              Avg_Accuracy                                 0.9171728253791959\n",
      "5         Avg_Exec_Time_Sec                               0.006802997203788372\n",
      "6         Avg_Exec_Time_Min                                           0.000113\n",
      "7         Avg_ROC_AUC_Score                                                0.5\n",
      "8              Avg_F1_Score                          [0.9566847129509789, 0.0]\n",
      "9   Avg_Matthews_Corr_Coeff                                                0.0\n",
      "10      Total_Exec_Time_Sec                                          56.601918\n",
      "11      Total_Exec_Time_Min                                           0.943365\n",
      "12                Timesteps  [0, 1, 2, 3, 4, 5, 6, 7, 8, 9, 10, 11, 12, 13,...\n",
      "13                 Accuracy  [0.7410714285714286, 0.8512820512820513, 0.919...\n",
      "14               Time_Stamp                                  20221104-21:06:59 \n",
      "\n",
      "                          0                                                  1\n",
      "0                   Dataset                                               2CDT\n",
      "1                Classifier                                  label_propagation\n",
      "2                    Method                                            compose\n",
      "3                 Avg_Error                                 0.1292344650544884\n",
      "4              Avg_Accuracy                                 0.8707655349455139\n",
      "5         Avg_Exec_Time_Sec                               0.005922688378228081\n",
      "6         Avg_Exec_Time_Min                                           0.000099\n",
      "7         Avg_ROC_AUC_Score                                                0.5\n",
      "8              Avg_F1_Score                          [0.9306896493181803, 0.0]\n",
      "9   Avg_Matthews_Corr_Coeff                                                0.0\n",
      "10      Total_Exec_Time_Sec                                          54.304649\n",
      "11      Total_Exec_Time_Min                                           0.905077\n",
      "12                Timesteps  [0, 1, 2, 3, 4, 5, 6, 7, 8, 9, 10, 11, 12, 13,...\n",
      "13                 Accuracy  [0.6346153846153846, 0.7764705882352941, 0.874...\n",
      "14               Time_Stamp                                  20221104-21:07:53 \n",
      "\n"
     ]
    },
    {
     "data": {
      "text/plain": [
       "<openpickel.OpenResults at 0x7f32c798bd60>"
      ]
     },
     "execution_count": 1,
     "metadata": {},
     "output_type": "execute_result"
    },
    {
     "data": {
      "text/plain": [
       "<Figure size 640x480 with 0 Axes>"
      ]
     },
     "metadata": {},
     "output_type": "display_data"
    }
   ],
   "source": [
    "import openpickel\n",
    "\n",
    "openpickel.OpenResults()\n"
   ]
  }
 ],
 "metadata": {
  "kernelspec": {
   "display_name": "Python 3 (ipykernel)",
   "language": "python",
   "name": "python3"
  },
  "language_info": {
   "codemirror_mode": {
    "name": "ipython",
    "version": 3
   },
   "file_extension": ".py",
   "mimetype": "text/x-python",
   "name": "python",
   "nbconvert_exporter": "python",
   "pygments_lexer": "ipython3",
   "version": "3.9.7"
  },
  "vscode": {
   "interpreter": {
    "hash": "498fa542aeec39e71c0563a1c98a56334658ba68f734d21c43e8bf124fe4c396"
   }
  }
 },
 "nbformat": 4,
 "nbformat_minor": 2
}
