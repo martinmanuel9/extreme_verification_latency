{
 "cells": [
  {
   "cell_type": "code",
   "execution_count": 1,
   "metadata": {
    "scrolled": false
   },
   "outputs": [
    {
     "name": "stdout",
     "output_type": "stream",
     "text": [
      "Results:\n",
      "                   0                      1\n",
      "0           Dataset               UG_2C_2D\n",
      "1        Classifier      label_propagation\n",
      "2            Method           fast_compose\n",
      "3     Average_Error  0.0010000000000000007\n",
      "4  Average_Accuracy      0.998999999999999\n",
      "5     Avg_Exec_Time     2.2029649874176642\n",
      "6   Total_Exec_Time             218.148436\n",
      "7        Time_Stamp      20220914-17:50:37\n"
     ]
    },
    {
     "ename": "MemoryError",
     "evalue": "Unable to allocate 311. GiB for an array with shape (204350, 204350) and data type float64",
     "output_type": "error",
     "traceback": [
      "\u001b[0;31m---------------------------------------------------------------------------\u001b[0m",
      "\u001b[0;31mMemoryError\u001b[0m                               Traceback (most recent call last)",
      "Input \u001b[0;32mIn [1]\u001b[0m, in \u001b[0;36m<cell line: 1>\u001b[0;34m()\u001b[0m\n\u001b[0;32m----> 1\u001b[0m \u001b[38;5;28;01mimport\u001b[39;00m \u001b[38;5;21;01mrun_experiments\u001b[39;00m\n\u001b[1;32m      3\u001b[0m run_experiments\u001b[38;5;241m.\u001b[39mRunExperiment()\n",
      "File \u001b[0;32m~/extreme_verification_latency/models/run_experiments.py:181\u001b[0m, in \u001b[0;36m<module>\u001b[0;34m\u001b[0m\n\u001b[1;32m    178\u001b[0m         \u001b[38;5;28mself\u001b[39m\u001b[38;5;241m.\u001b[39mplot_results()\n\u001b[1;32m    180\u001b[0m run_experiment \u001b[38;5;241m=\u001b[39m RunExperiment(experiements\u001b[38;5;241m=\u001b[39m[\u001b[38;5;124m'\u001b[39m\u001b[38;5;124mfast_compose\u001b[39m\u001b[38;5;124m'\u001b[39m], classifier\u001b[38;5;241m=\u001b[39m[\u001b[38;5;124m'\u001b[39m\u001b[38;5;124mlabel_propagation\u001b[39m\u001b[38;5;124m'\u001b[39m], verbose\u001b[38;5;241m=\u001b[39m\u001b[38;5;241m0\u001b[39m, datasets\u001b[38;5;241m=\u001b[39m[ \u001b[38;5;124m'\u001b[39m\u001b[38;5;124mUG_2C_2D\u001b[39m\u001b[38;5;124m'\u001b[39m,\u001b[38;5;124m'\u001b[39m\u001b[38;5;124mMG_2C_2D\u001b[39m\u001b[38;5;124m'\u001b[39m,\u001b[38;5;124m'\u001b[39m\u001b[38;5;124m1CDT\u001b[39m\u001b[38;5;124m'\u001b[39m ], num_cores\u001b[38;5;241m=\u001b[39m\u001b[38;5;241m0.95\u001b[39m)\n\u001b[0;32m--> 181\u001b[0m \u001b[43mrun_experiment\u001b[49m\u001b[38;5;241;43m.\u001b[39;49m\u001b[43mrun\u001b[49m\u001b[43m(\u001b[49m\u001b[43m)\u001b[49m\n",
      "File \u001b[0;32m~/extreme_verification_latency/models/run_experiments.py:115\u001b[0m, in \u001b[0;36mRunExperiment.run\u001b[0;34m(self)\u001b[0m\n\u001b[1;32m    113\u001b[0m \u001b[38;5;28;01melif\u001b[39;00m i \u001b[38;5;241m==\u001b[39m \u001b[38;5;124m'\u001b[39m\u001b[38;5;124mfast_compose\u001b[39m\u001b[38;5;124m'\u001b[39m \u001b[38;5;129;01mand\u001b[39;00m j \u001b[38;5;241m==\u001b[39m \u001b[38;5;124m'\u001b[39m\u001b[38;5;124mlabel_propagation\u001b[39m\u001b[38;5;124m'\u001b[39m:\n\u001b[1;32m    114\u001b[0m     fast_compose_label_prop \u001b[38;5;241m=\u001b[39m compose\u001b[38;5;241m.\u001b[39mCOMPOSE(classifier\u001b[38;5;241m=\u001b[39m\u001b[38;5;124m\"\u001b[39m\u001b[38;5;124mlabel_propagation\u001b[39m\u001b[38;5;124m\"\u001b[39m, method\u001b[38;5;241m=\u001b[39m\u001b[38;5;124m\"\u001b[39m\u001b[38;5;124mfast_compose\u001b[39m\u001b[38;5;124m\"\u001b[39m, verbose \u001b[38;5;241m=\u001b[39m \u001b[38;5;28mself\u001b[39m\u001b[38;5;241m.\u001b[39mverbose, num_cores\u001b[38;5;241m=\u001b[39m \u001b[38;5;28mself\u001b[39m\u001b[38;5;241m.\u001b[39mnum_cores, selected_dataset \u001b[38;5;241m=\u001b[39m dataset)\n\u001b[0;32m--> 115\u001b[0m     \u001b[38;5;28mself\u001b[39m\u001b[38;5;241m.\u001b[39mresults[experiment] \u001b[38;5;241m=\u001b[39m \u001b[43mfast_compose_label_prop\u001b[49m\u001b[38;5;241;43m.\u001b[39;49m\u001b[43mrun\u001b[49m\u001b[43m(\u001b[49m\u001b[43m)\u001b[49m\n\u001b[1;32m    116\u001b[0m     time_stamp \u001b[38;5;241m=\u001b[39m time\u001b[38;5;241m.\u001b[39mstrftime(\u001b[38;5;124m\"\u001b[39m\u001b[38;5;124m%\u001b[39m\u001b[38;5;124mY\u001b[39m\u001b[38;5;124m%\u001b[39m\u001b[38;5;124mm\u001b[39m\u001b[38;5;132;01m%d\u001b[39;00m\u001b[38;5;124m-\u001b[39m\u001b[38;5;124m%\u001b[39m\u001b[38;5;124mH:\u001b[39m\u001b[38;5;124m%\u001b[39m\u001b[38;5;124mM:\u001b[39m\u001b[38;5;124m%\u001b[39m\u001b[38;5;124mS\u001b[39m\u001b[38;5;124m\"\u001b[39m)\n\u001b[1;32m    117\u001b[0m     fast_compose_label_prop\u001b[38;5;241m.\u001b[39mavg_results_dict[\u001b[38;5;124m'\u001b[39m\u001b[38;5;124mTime_Stamp\u001b[39m\u001b[38;5;124m'\u001b[39m] \u001b[38;5;241m=\u001b[39m time_stamp\n",
      "File \u001b[0;32m~/extreme_verification_latency/models/compose.py:471\u001b[0m, in \u001b[0;36mCOMPOSE.run\u001b[0;34m(self)\u001b[0m\n\u001b[1;32m    469\u001b[0m \u001b[38;5;28mself\u001b[39m\u001b[38;5;241m.\u001b[39mlabeled[ts\u001b[38;5;241m+\u001b[39m\u001b[38;5;241m1\u001b[39m] \u001b[38;5;241m=\u001b[39m []\n\u001b[1;32m    470\u001b[0m \u001b[38;5;66;03m# steps 5 - 7 as it extracts core supports\u001b[39;00m\n\u001b[0;32m--> 471\u001b[0m \u001b[38;5;28;43mself\u001b[39;49m\u001b[38;5;241;43m.\u001b[39;49m\u001b[43mget_core_supports\u001b[49m\u001b[43m(\u001b[49m\u001b[38;5;28;43mself\u001b[39;49m\u001b[38;5;241;43m.\u001b[39;49m\u001b[43mstream\u001b[49m\u001b[43m[\u001b[49m\u001b[43mts\u001b[49m\u001b[43m]\u001b[49m\u001b[43m)\u001b[49m              \u001b[38;5;66;03m# create core supports at timestep\u001b[39;00m\n\u001b[1;32m    472\u001b[0m \u001b[38;5;66;03m# L^t+1 = L^t+1 \u001b[39;00m\n\u001b[1;32m    473\u001b[0m \u001b[38;5;28mself\u001b[39m\u001b[38;5;241m.\u001b[39mlabeled[ts\u001b[38;5;241m+\u001b[39m\u001b[38;5;241m1\u001b[39m] \u001b[38;5;241m=\u001b[39m \u001b[38;5;28mself\u001b[39m\u001b[38;5;241m.\u001b[39mcore_supports[ts]\n",
      "File \u001b[0;32m~/extreme_verification_latency/models/compose.py:176\u001b[0m, in \u001b[0;36mCOMPOSE.get_core_supports\u001b[0;34m(self, input_data, next_data)\u001b[0m\n\u001b[1;32m    174\u001b[0m \u001b[38;5;28;01mif\u001b[39;00m \u001b[38;5;28mself\u001b[39m\u001b[38;5;241m.\u001b[39mmethod \u001b[38;5;241m==\u001b[39m \u001b[38;5;124m'\u001b[39m\u001b[38;5;124mfast_compose\u001b[39m\u001b[38;5;124m'\u001b[39m:\n\u001b[1;32m    175\u001b[0m     \u001b[38;5;28mself\u001b[39m\u001b[38;5;241m.\u001b[39mcse\u001b[38;5;241m.\u001b[39mset_boundary(\u001b[38;5;124m'\u001b[39m\u001b[38;5;124mgmm\u001b[39m\u001b[38;5;124m'\u001b[39m)\n\u001b[0;32m--> 176\u001b[0m     \u001b[38;5;28mself\u001b[39m\u001b[38;5;241m.\u001b[39mnum_cs[\u001b[38;5;28mself\u001b[39m\u001b[38;5;241m.\u001b[39mtimestep] \u001b[38;5;241m=\u001b[39m \u001b[38;5;28mlen\u001b[39m(\u001b[38;5;28;43mself\u001b[39;49m\u001b[38;5;241;43m.\u001b[39;49m\u001b[43mcse\u001b[49m\u001b[38;5;241;43m.\u001b[39;49m\u001b[43mgmm\u001b[49m\u001b[43m(\u001b[49m\u001b[43m)\u001b[49m)\n\u001b[1;32m    177\u001b[0m     \u001b[38;5;28mself\u001b[39m\u001b[38;5;241m.\u001b[39mcore_supports[\u001b[38;5;28mself\u001b[39m\u001b[38;5;241m.\u001b[39mtimestep] \u001b[38;5;241m=\u001b[39m \u001b[38;5;28mself\u001b[39m\u001b[38;5;241m.\u001b[39mcse\u001b[38;5;241m.\u001b[39mgmm()\n\u001b[1;32m    178\u001b[0m \u001b[38;5;28;01melif\u001b[39;00m \u001b[38;5;28mself\u001b[39m\u001b[38;5;241m.\u001b[39mmethod \u001b[38;5;241m==\u001b[39m \u001b[38;5;124m'\u001b[39m\u001b[38;5;124mparzen\u001b[39m\u001b[38;5;124m'\u001b[39m:\n",
      "File \u001b[0;32m~/extreme_verification_latency/models/cse.py:341\u001b[0m, in \u001b[0;36mCSE.gmm\u001b[0;34m(self)\u001b[0m\n\u001b[1;32m    338\u001b[0m GM_cov \u001b[38;5;241m=\u001b[39m GM_cov\u001b[38;5;241m.\u001b[39mreshape((\u001b[38;5;241m-\u001b[39m\u001b[38;5;241m1\u001b[39m, np\u001b[38;5;241m.\u001b[39mshape(x_ul_df)[\u001b[38;5;241m1\u001b[39m]))\n\u001b[1;32m    340\u001b[0m \u001b[38;5;66;03m# needs to return the squared Mahalanobis Distance of each observation in x to the reference samples in data\u001b[39;00m\n\u001b[0;32m--> 341\u001b[0m x_ul_df[\u001b[38;5;124m'\u001b[39m\u001b[38;5;124mmahalanobis\u001b[39m\u001b[38;5;124m'\u001b[39m] \u001b[38;5;241m=\u001b[39m \u001b[43mget_MD\u001b[49m\u001b[38;5;241;43m.\u001b[39;49m\u001b[43mMahalanobisDistance\u001b[49m\u001b[43m(\u001b[49m\u001b[43m \u001b[49m\u001b[43mx\u001b[49m\u001b[38;5;241;43m=\u001b[39;49m\u001b[43m \u001b[49m\u001b[43mx_ul_df\u001b[49m\u001b[43m \u001b[49m\u001b[43m,\u001b[49m\u001b[43m \u001b[49m\u001b[43mdata\u001b[49m\u001b[38;5;241;43m=\u001b[39;49m\u001b[43m \u001b[49m\u001b[43mGM_means\u001b[49m\u001b[43m \u001b[49m\u001b[43m,\u001b[49m\u001b[43m \u001b[49m\u001b[43mcov\u001b[49m\u001b[43m \u001b[49m\u001b[38;5;241;43m=\u001b[39;49m\u001b[43m \u001b[49m\u001b[43mGM_cov\u001b[49m\u001b[43m)\u001b[49m           \u001b[38;5;66;03m# x= observations, data=distribution\u001b[39;00m\n\u001b[1;32m    342\u001b[0m x_ul_df \u001b[38;5;241m=\u001b[39m x_ul_df\u001b[38;5;241m.\u001b[39msort_values(by\u001b[38;5;241m=\u001b[39m\u001b[38;5;124m'\u001b[39m\u001b[38;5;124mmahalanobis\u001b[39m\u001b[38;5;124m'\u001b[39m)\n\u001b[1;32m    344\u001b[0m support_indices \u001b[38;5;241m=\u001b[39m x_ul_df\u001b[38;5;241m.\u001b[39mloc[:, x_ul_df\u001b[38;5;241m.\u001b[39mcolumns \u001b[38;5;241m!=\u001b[39m \u001b[38;5;124m'\u001b[39m\u001b[38;5;124mmahalanobis\u001b[39m\u001b[38;5;124m'\u001b[39m]  \u001b[38;5;66;03m# get all but mahalanobis distance\u001b[39;00m\n",
      "File \u001b[0;32m~/extreme_verification_latency/models/util.py:77\u001b[0m, in \u001b[0;36mUtil.MahalanobisDistance\u001b[0;34m(self, x, cov, data)\u001b[0m\n\u001b[1;32m     75\u001b[0m inv_cov \u001b[38;5;241m=\u001b[39m sp\u001b[38;5;241m.\u001b[39mlinalg\u001b[38;5;241m.\u001b[39minv(cov)\n\u001b[1;32m     76\u001b[0m left_term \u001b[38;5;241m=\u001b[39m np\u001b[38;5;241m.\u001b[39mdot(x_minus_mean, inv_cov)\n\u001b[0;32m---> 77\u001b[0m mahalDist \u001b[38;5;241m=\u001b[39m \u001b[43mnp\u001b[49m\u001b[38;5;241;43m.\u001b[39;49m\u001b[43mdot\u001b[49m\u001b[43m(\u001b[49m\u001b[43mleft_term\u001b[49m\u001b[43m,\u001b[49m\u001b[43mx_minus_mean\u001b[49m\u001b[38;5;241;43m.\u001b[39;49m\u001b[43mT\u001b[49m\u001b[43m)\u001b[49m\n\u001b[1;32m     78\u001b[0m \u001b[38;5;28;01mreturn\u001b[39;00m mahalDist\u001b[38;5;241m.\u001b[39mdiagonal()\n",
      "File \u001b[0;32m<__array_function__ internals>:180\u001b[0m, in \u001b[0;36mdot\u001b[0;34m(*args, **kwargs)\u001b[0m\n",
      "\u001b[0;31mMemoryError\u001b[0m: Unable to allocate 311. GiB for an array with shape (204350, 204350) and data type float64"
     ]
    }
   ],
   "source": [
    "import run_experiments\n",
    "\n",
    "run_experiments.RunExperiment()"
   ]
  },
  {
   "cell_type": "code",
   "execution_count": null,
   "metadata": {},
   "outputs": [],
   "source": []
  }
 ],
 "metadata": {
  "kernelspec": {
   "display_name": "Python 3 (ipykernel)",
   "language": "python",
   "name": "python3"
  },
  "language_info": {
   "codemirror_mode": {
    "name": "ipython",
    "version": 3
   },
   "file_extension": ".py",
   "mimetype": "text/x-python",
   "name": "python",
   "nbconvert_exporter": "python",
   "pygments_lexer": "ipython3",
   "version": "3.9.7"
  },
  "vscode": {
   "interpreter": {
    "hash": "40d3a090f54c6569ab1632332b64b2c03c39dcf918b08424e98f38b5ae0af88f"
   }
  }
 },
 "nbformat": 4,
 "nbformat_minor": 2
}
