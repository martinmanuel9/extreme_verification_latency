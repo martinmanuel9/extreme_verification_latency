{
 "cells": [
  {
   "cell_type": "code",
   "execution_count": 2,
   "metadata": {},
   "outputs": [
    {
     "data": {
      "application/vnd.plotly.v1+json": {
       "config": {
        "plotlyServerURL": "https://plot.ly"
       },
       "data": [
        {
         "cells": {
          "values": [
           [
            "ton_iot_thermo",
            "bot_iot",
            "bot_iot",
            "bot_iot",
            "ton_iot_fridge",
            "ton_iot_garage",
            "ton_iot_gps",
            "ton_iot_modbus",
            "ton_iot_light",
            "ton_iot_thermo",
            "ton_iot_weather",
            "bot_iot",
            "bot_iot",
            "bot_iot",
            "bot_iot",
            "bot_iot",
            "ton_iot_fridge",
            "ton_iot_fridge",
            "ton_iot_fridge",
            "ton_iot_fridge",
            "ton_iot_fridge",
            "ton_iot_fridge",
            "ton_iot_fridge",
            "ton_iot_fridge",
            "ton_iot_garage",
            "ton_iot_garage",
            "ton_iot_garage",
            "ton_iot_garage",
            "ton_iot_garage",
            "ton_iot_garage",
            "ton_iot_garage",
            "ton_iot_garage",
            "ton_iot_gps",
            "ton_iot_gps",
            "ton_iot_gps",
            "ton_iot_gps",
            "ton_iot_gps",
            "ton_iot_gps",
            "ton_iot_gps",
            "ton_iot_gps",
            "ton_iot_light",
            "ton_iot_light",
            "ton_iot_light",
            "ton_iot_light",
            "ton_iot_light",
            "ton_iot_light",
            "ton_iot_light",
            "ton_iot_light",
            "ton_iot_modbus",
            "ton_iot_modbus",
            "ton_iot_modbus",
            "ton_iot_modbus",
            "ton_iot_modbus",
            "ton_iot_modbus",
            "ton_iot_modbus",
            "ton_iot_modbus",
            "ton_iot_thermo",
            "ton_iot_thermo",
            "ton_iot_thermo",
            "ton_iot_thermo",
            "ton_iot_thermo",
            "ton_iot_thermo",
            "ton_iot_thermo",
            "ton_iot_thermo",
            "ton_iot_weather",
            "ton_iot_weather",
            "ton_iot_weather",
            "ton_iot_weather",
            "ton_iot_weather",
            "ton_iot_weather",
            "ton_iot_weather",
            "ton_iot_weather"
           ],
           [
            "compose_svm",
            "vanilla_naive_bayes",
            "vanilla_svm",
            "compose_label_propagation",
            "scargc_svm",
            "scargc_svm",
            "scargc_svm",
            "scargc_svm",
            "scargc_svm",
            "scargc_svm",
            "scargc_svm",
            "fast_compose_label_propagation",
            "compose_naive_bayes",
            "fast_compose_naive_bayes",
            "compose_svm",
            "fast_compose_svm",
            "vanilla_naive_bayes",
            "vanilla_svm",
            "compose_label_propagation",
            "fast_compose_label_propagation",
            "compose_naive_bayes",
            "fast_compose_naive_bayes",
            "compose_svm",
            "fast_compose_svm",
            "vanilla_naive_bayes",
            "vanilla_svm",
            "compose_label_propagation",
            "fast_compose_label_propagation",
            "compose_naive_bayes",
            "fast_compose_naive_bayes",
            "compose_svm",
            "fast_compose_svm",
            "vanilla_naive_bayes",
            "vanilla_svm",
            "compose_label_propagation",
            "fast_compose_label_propagation",
            "compose_naive_bayes",
            "fast_compose_naive_bayes",
            "compose_svm",
            "fast_compose_svm",
            "vanilla_naive_bayes",
            "vanilla_svm",
            "compose_label_propagation",
            "fast_compose_label_propagation",
            "compose_naive_bayes",
            "fast_compose_naive_bayes",
            "compose_svm",
            "fast_compose_svm",
            "vanilla_naive_bayes",
            "vanilla_svm",
            "compose_label_propagation",
            "fast_compose_label_propagation",
            "compose_naive_bayes",
            "fast_compose_naive_bayes",
            "compose_svm",
            "fast_compose_svm",
            "vanilla_naive_bayes",
            "vanilla_svm",
            "compose_label_propagation",
            "fast_compose_label_propagation",
            "compose_naive_bayes",
            "fast_compose_naive_bayes",
            "compose_svm",
            "fast_compose_svm",
            "vanilla_naive_bayes",
            "vanilla_svm",
            "compose_label_propagation",
            "fast_compose_label_propagation",
            "compose_naive_bayes",
            "fast_compose_naive_bayes",
            "compose_svm",
            "fast_compose_svm"
           ],
           [
            0.43137492609405714,
            0.9999973010794333,
            0.9870627242634311,
            0.917052780341237,
            0.9955245524552455,
            0.9951262626262627,
            0.9162709149533917,
            0.6865487397685905,
            0.9956818181818181,
            0.9536563754897659,
            0.9326757964257965,
            0.9081208728107949,
            0.4743115089085885,
            0.9762614329268292,
            0.6255037720201588,
            0.4170560147662828,
            0.9990862944162435,
            0.9991878172588833,
            0.9690335491552576,
            0.9066967856613831,
            0.5031150295208705,
            0.9775315683145837,
            0.4975762560160097,
            0.622089500122519,
            0.9496428571428571,
            0.9977551020408164,
            0.9546760604151302,
            0.854757803907888,
            0.5127211331015552,
            0.4801713208436434,
            0.8397960443781618,
            0.35862237856124296,
            0.9465979381443296,
            0.8543814432989688,
            0.8781047204682099,
            0.8576525000620976,
            0.4701790457331343,
            0.9846003780858478,
            0.4013671770104862,
            0.33882978010339193,
            0.9597448979591836,
            0.9918877551020415,
            0.9787338616260852,
            0.9866875,
            0.4699104286299538,
            0.9845232540524163,
            0.44608162026052883,
            0.3852398585752004,
            0.9989285714285714,
            0.6898214285714286,
            0.9866420980673825,
            0.8671678863396625,
            0.5220408000031029,
            0.9806125453072856,
            0.4973822739023369,
            0.36485067474152233,
            0.9599425287356326,
            0.8591379310344831,
            0.8962168099556981,
            0.8394943833314678,
            0.48447695714025985,
            0.9635755784865541,
            0.631943108203137,
            0.37782845330362735,
            0.9474226804123707,
            0.6261855670103095,
            0.9003925067382429,
            0.8359668941881236,
            0.5094663669696731,
            0.9681170084456281,
            0.7226519156106939,
            0.37448924198541833
           ],
           [
            0.5066257883499222,
            0.9999986340043406,
            0.5101424840681755,
            0.9253592348561918,
            0.9954606617316015,
            0.9950278640235649,
            0.9196840485021227,
            0.5,
            0.9954814618644068,
            0.93282029534424,
            0.9187907102404208,
            0.5731816699282453,
            0.49976626818654724,
            0.5030067802386257,
            0.4969984565375247,
            0.5,
            0.9991666666666668,
            0.999245283018868,
            0.9715696642395408,
            0.5645994832041343,
            0.4925710676367175,
            0.49929733816923744,
            0.49817657488283457,
            0.5000859247135843,
            0.9406703247391913,
            0.9975111162158073,
            0.9585441132746872,
            0.8463235509496478,
            0.4983101203623485,
            0.5010629960399503,
            0.5000940016672878,
            0.5,
            0.9359499728297282,
            0.8493505729569871,
            0.9071404129650793,
            0.8495849412597529,
            0.4973135722864417,
            0.5023061994438409,
            0.5225009807515039,
            0.5,
            0.9516895463656426,
            0.9907167607928524,
            0.9778191331835138,
            0.5827087102610494,
            0.5033839975697678,
            0.49549021824056355,
            0.49248533432185865,
            0.5,
            0.9987142857142857,
            0.509783962733909,
            0.989149538122316,
            0.5622476377872062,
            0.4993280217639606,
            0.5081418686789705,
            0.5001202254648471,
            0.5,
            0.9411382752381402,
            0.7893493894470489,
            0.9027332276615481,
            0.8396881255828226,
            0.49540543963784645,
            0.5059675330698895,
            0.5033259972032461,
            0.5,
            0.9367618053437335,
            0.5504254993921267,
            0.9064969656249062,
            0.836265247040686,
            0.5126483368204338,
            0.5196312521272373,
            0.499811154341962,
            0.5
           ],
           [
            4218.615135192871,
            44.43472099304199,
            445.1283149719238,
            125.71933436393738,
            2.4023189544677734,
            1.752997875213623,
            24.543755292892456,
            50.39387559890747,
            1.6616604328155518,
            17.773067951202393,
            34.8916232585907,
            1.2911288738250732,
            59.92740559577942,
            1.2360126972198486,
            18.861407995224,
            7.203804016113281,
            3.458777904510498,
            3.102501630783081,
            130.2109763622284,
            1.4389383792877197,
            30.89027166366577,
            1.3138353824615479,
            53.3546986579895,
            1.3617429733276367,
            3.0993857383728027,
            3.0900826454162598,
            154.3738980293274,
            12.981052875518799,
            54.10423040390015,
            1.5275051593780518,
            15.528977155685425,
            8.321149349212646,
            3.0842437744140625,
            3.2425377368927,
            149.8250229358673,
            9.846181154251099,
            42.729900598526,
            1.2634491920471191,
            23.08081364631653,
            9.294079065322876,
            3.0774776935577393,
            3.100375175476074,
            147.92894196510315,
            1.258610486984253,
            57.469712257385254,
            1.2647480964660645,
            37.83703851699829,
            8.341876029968262,
            3.063265800476074,
            3.2617194652557373,
            134.97198009490967,
            1.7082440853118896,
            35.933290004730225,
            1.1815567016601562,
            27.97119665145874,
            2.8295085430145264,
            3.0909616947174072,
            3.3193507194519043,
            131.102201461792,
            11.19302749633789,
            44.363988637924194,
            1.2827460765838623,
            60.13839054107666,
            2.702193021774292,
            3.1039397716522217,
            3.4547300338745117,
            130.4265537261963,
            11.061548233032227,
            36.97406196594238,
            1.3001060485839844,
            35.450788497924805,
            8.542848348617554
           ]
          ]
         },
         "header": {
          "values": [
           "Dataset",
           "Experiment",
           "Avg Accuracy",
           "Avg ROC AUC",
           "Total Exec Time in Seconds"
          ]
         },
         "type": "table"
        }
       ],
       "layout": {
        "template": {
         "data": {
          "bar": [
           {
            "error_x": {
             "color": "#2a3f5f"
            },
            "error_y": {
             "color": "#2a3f5f"
            },
            "marker": {
             "line": {
              "color": "#E5ECF6",
              "width": 0.5
             },
             "pattern": {
              "fillmode": "overlay",
              "size": 10,
              "solidity": 0.2
             }
            },
            "type": "bar"
           }
          ],
          "barpolar": [
           {
            "marker": {
             "line": {
              "color": "#E5ECF6",
              "width": 0.5
             },
             "pattern": {
              "fillmode": "overlay",
              "size": 10,
              "solidity": 0.2
             }
            },
            "type": "barpolar"
           }
          ],
          "carpet": [
           {
            "aaxis": {
             "endlinecolor": "#2a3f5f",
             "gridcolor": "white",
             "linecolor": "white",
             "minorgridcolor": "white",
             "startlinecolor": "#2a3f5f"
            },
            "baxis": {
             "endlinecolor": "#2a3f5f",
             "gridcolor": "white",
             "linecolor": "white",
             "minorgridcolor": "white",
             "startlinecolor": "#2a3f5f"
            },
            "type": "carpet"
           }
          ],
          "choropleth": [
           {
            "colorbar": {
             "outlinewidth": 0,
             "ticks": ""
            },
            "type": "choropleth"
           }
          ],
          "contour": [
           {
            "colorbar": {
             "outlinewidth": 0,
             "ticks": ""
            },
            "colorscale": [
             [
              0,
              "#0d0887"
             ],
             [
              0.1111111111111111,
              "#46039f"
             ],
             [
              0.2222222222222222,
              "#7201a8"
             ],
             [
              0.3333333333333333,
              "#9c179e"
             ],
             [
              0.4444444444444444,
              "#bd3786"
             ],
             [
              0.5555555555555556,
              "#d8576b"
             ],
             [
              0.6666666666666666,
              "#ed7953"
             ],
             [
              0.7777777777777778,
              "#fb9f3a"
             ],
             [
              0.8888888888888888,
              "#fdca26"
             ],
             [
              1,
              "#f0f921"
             ]
            ],
            "type": "contour"
           }
          ],
          "contourcarpet": [
           {
            "colorbar": {
             "outlinewidth": 0,
             "ticks": ""
            },
            "type": "contourcarpet"
           }
          ],
          "heatmap": [
           {
            "colorbar": {
             "outlinewidth": 0,
             "ticks": ""
            },
            "colorscale": [
             [
              0,
              "#0d0887"
             ],
             [
              0.1111111111111111,
              "#46039f"
             ],
             [
              0.2222222222222222,
              "#7201a8"
             ],
             [
              0.3333333333333333,
              "#9c179e"
             ],
             [
              0.4444444444444444,
              "#bd3786"
             ],
             [
              0.5555555555555556,
              "#d8576b"
             ],
             [
              0.6666666666666666,
              "#ed7953"
             ],
             [
              0.7777777777777778,
              "#fb9f3a"
             ],
             [
              0.8888888888888888,
              "#fdca26"
             ],
             [
              1,
              "#f0f921"
             ]
            ],
            "type": "heatmap"
           }
          ],
          "heatmapgl": [
           {
            "colorbar": {
             "outlinewidth": 0,
             "ticks": ""
            },
            "colorscale": [
             [
              0,
              "#0d0887"
             ],
             [
              0.1111111111111111,
              "#46039f"
             ],
             [
              0.2222222222222222,
              "#7201a8"
             ],
             [
              0.3333333333333333,
              "#9c179e"
             ],
             [
              0.4444444444444444,
              "#bd3786"
             ],
             [
              0.5555555555555556,
              "#d8576b"
             ],
             [
              0.6666666666666666,
              "#ed7953"
             ],
             [
              0.7777777777777778,
              "#fb9f3a"
             ],
             [
              0.8888888888888888,
              "#fdca26"
             ],
             [
              1,
              "#f0f921"
             ]
            ],
            "type": "heatmapgl"
           }
          ],
          "histogram": [
           {
            "marker": {
             "pattern": {
              "fillmode": "overlay",
              "size": 10,
              "solidity": 0.2
             }
            },
            "type": "histogram"
           }
          ],
          "histogram2d": [
           {
            "colorbar": {
             "outlinewidth": 0,
             "ticks": ""
            },
            "colorscale": [
             [
              0,
              "#0d0887"
             ],
             [
              0.1111111111111111,
              "#46039f"
             ],
             [
              0.2222222222222222,
              "#7201a8"
             ],
             [
              0.3333333333333333,
              "#9c179e"
             ],
             [
              0.4444444444444444,
              "#bd3786"
             ],
             [
              0.5555555555555556,
              "#d8576b"
             ],
             [
              0.6666666666666666,
              "#ed7953"
             ],
             [
              0.7777777777777778,
              "#fb9f3a"
             ],
             [
              0.8888888888888888,
              "#fdca26"
             ],
             [
              1,
              "#f0f921"
             ]
            ],
            "type": "histogram2d"
           }
          ],
          "histogram2dcontour": [
           {
            "colorbar": {
             "outlinewidth": 0,
             "ticks": ""
            },
            "colorscale": [
             [
              0,
              "#0d0887"
             ],
             [
              0.1111111111111111,
              "#46039f"
             ],
             [
              0.2222222222222222,
              "#7201a8"
             ],
             [
              0.3333333333333333,
              "#9c179e"
             ],
             [
              0.4444444444444444,
              "#bd3786"
             ],
             [
              0.5555555555555556,
              "#d8576b"
             ],
             [
              0.6666666666666666,
              "#ed7953"
             ],
             [
              0.7777777777777778,
              "#fb9f3a"
             ],
             [
              0.8888888888888888,
              "#fdca26"
             ],
             [
              1,
              "#f0f921"
             ]
            ],
            "type": "histogram2dcontour"
           }
          ],
          "mesh3d": [
           {
            "colorbar": {
             "outlinewidth": 0,
             "ticks": ""
            },
            "type": "mesh3d"
           }
          ],
          "parcoords": [
           {
            "line": {
             "colorbar": {
              "outlinewidth": 0,
              "ticks": ""
             }
            },
            "type": "parcoords"
           }
          ],
          "pie": [
           {
            "automargin": true,
            "type": "pie"
           }
          ],
          "scatter": [
           {
            "fillpattern": {
             "fillmode": "overlay",
             "size": 10,
             "solidity": 0.2
            },
            "type": "scatter"
           }
          ],
          "scatter3d": [
           {
            "line": {
             "colorbar": {
              "outlinewidth": 0,
              "ticks": ""
             }
            },
            "marker": {
             "colorbar": {
              "outlinewidth": 0,
              "ticks": ""
             }
            },
            "type": "scatter3d"
           }
          ],
          "scattercarpet": [
           {
            "marker": {
             "colorbar": {
              "outlinewidth": 0,
              "ticks": ""
             }
            },
            "type": "scattercarpet"
           }
          ],
          "scattergeo": [
           {
            "marker": {
             "colorbar": {
              "outlinewidth": 0,
              "ticks": ""
             }
            },
            "type": "scattergeo"
           }
          ],
          "scattergl": [
           {
            "marker": {
             "colorbar": {
              "outlinewidth": 0,
              "ticks": ""
             }
            },
            "type": "scattergl"
           }
          ],
          "scattermapbox": [
           {
            "marker": {
             "colorbar": {
              "outlinewidth": 0,
              "ticks": ""
             }
            },
            "type": "scattermapbox"
           }
          ],
          "scatterpolar": [
           {
            "marker": {
             "colorbar": {
              "outlinewidth": 0,
              "ticks": ""
             }
            },
            "type": "scatterpolar"
           }
          ],
          "scatterpolargl": [
           {
            "marker": {
             "colorbar": {
              "outlinewidth": 0,
              "ticks": ""
             }
            },
            "type": "scatterpolargl"
           }
          ],
          "scatterternary": [
           {
            "marker": {
             "colorbar": {
              "outlinewidth": 0,
              "ticks": ""
             }
            },
            "type": "scatterternary"
           }
          ],
          "surface": [
           {
            "colorbar": {
             "outlinewidth": 0,
             "ticks": ""
            },
            "colorscale": [
             [
              0,
              "#0d0887"
             ],
             [
              0.1111111111111111,
              "#46039f"
             ],
             [
              0.2222222222222222,
              "#7201a8"
             ],
             [
              0.3333333333333333,
              "#9c179e"
             ],
             [
              0.4444444444444444,
              "#bd3786"
             ],
             [
              0.5555555555555556,
              "#d8576b"
             ],
             [
              0.6666666666666666,
              "#ed7953"
             ],
             [
              0.7777777777777778,
              "#fb9f3a"
             ],
             [
              0.8888888888888888,
              "#fdca26"
             ],
             [
              1,
              "#f0f921"
             ]
            ],
            "type": "surface"
           }
          ],
          "table": [
           {
            "cells": {
             "fill": {
              "color": "#EBF0F8"
             },
             "line": {
              "color": "white"
             }
            },
            "header": {
             "fill": {
              "color": "#C8D4E3"
             },
             "line": {
              "color": "white"
             }
            },
            "type": "table"
           }
          ]
         },
         "layout": {
          "annotationdefaults": {
           "arrowcolor": "#2a3f5f",
           "arrowhead": 0,
           "arrowwidth": 1
          },
          "autotypenumbers": "strict",
          "coloraxis": {
           "colorbar": {
            "outlinewidth": 0,
            "ticks": ""
           }
          },
          "colorscale": {
           "diverging": [
            [
             0,
             "#8e0152"
            ],
            [
             0.1,
             "#c51b7d"
            ],
            [
             0.2,
             "#de77ae"
            ],
            [
             0.3,
             "#f1b6da"
            ],
            [
             0.4,
             "#fde0ef"
            ],
            [
             0.5,
             "#f7f7f7"
            ],
            [
             0.6,
             "#e6f5d0"
            ],
            [
             0.7,
             "#b8e186"
            ],
            [
             0.8,
             "#7fbc41"
            ],
            [
             0.9,
             "#4d9221"
            ],
            [
             1,
             "#276419"
            ]
           ],
           "sequential": [
            [
             0,
             "#0d0887"
            ],
            [
             0.1111111111111111,
             "#46039f"
            ],
            [
             0.2222222222222222,
             "#7201a8"
            ],
            [
             0.3333333333333333,
             "#9c179e"
            ],
            [
             0.4444444444444444,
             "#bd3786"
            ],
            [
             0.5555555555555556,
             "#d8576b"
            ],
            [
             0.6666666666666666,
             "#ed7953"
            ],
            [
             0.7777777777777778,
             "#fb9f3a"
            ],
            [
             0.8888888888888888,
             "#fdca26"
            ],
            [
             1,
             "#f0f921"
            ]
           ],
           "sequentialminus": [
            [
             0,
             "#0d0887"
            ],
            [
             0.1111111111111111,
             "#46039f"
            ],
            [
             0.2222222222222222,
             "#7201a8"
            ],
            [
             0.3333333333333333,
             "#9c179e"
            ],
            [
             0.4444444444444444,
             "#bd3786"
            ],
            [
             0.5555555555555556,
             "#d8576b"
            ],
            [
             0.6666666666666666,
             "#ed7953"
            ],
            [
             0.7777777777777778,
             "#fb9f3a"
            ],
            [
             0.8888888888888888,
             "#fdca26"
            ],
            [
             1,
             "#f0f921"
            ]
           ]
          },
          "colorway": [
           "#636efa",
           "#EF553B",
           "#00cc96",
           "#ab63fa",
           "#FFA15A",
           "#19d3f3",
           "#FF6692",
           "#B6E880",
           "#FF97FF",
           "#FECB52"
          ],
          "font": {
           "color": "#2a3f5f"
          },
          "geo": {
           "bgcolor": "white",
           "lakecolor": "white",
           "landcolor": "#E5ECF6",
           "showlakes": true,
           "showland": true,
           "subunitcolor": "white"
          },
          "hoverlabel": {
           "align": "left"
          },
          "hovermode": "closest",
          "mapbox": {
           "style": "light"
          },
          "paper_bgcolor": "white",
          "plot_bgcolor": "#E5ECF6",
          "polar": {
           "angularaxis": {
            "gridcolor": "white",
            "linecolor": "white",
            "ticks": ""
           },
           "bgcolor": "#E5ECF6",
           "radialaxis": {
            "gridcolor": "white",
            "linecolor": "white",
            "ticks": ""
           }
          },
          "scene": {
           "xaxis": {
            "backgroundcolor": "#E5ECF6",
            "gridcolor": "white",
            "gridwidth": 2,
            "linecolor": "white",
            "showbackground": true,
            "ticks": "",
            "zerolinecolor": "white"
           },
           "yaxis": {
            "backgroundcolor": "#E5ECF6",
            "gridcolor": "white",
            "gridwidth": 2,
            "linecolor": "white",
            "showbackground": true,
            "ticks": "",
            "zerolinecolor": "white"
           },
           "zaxis": {
            "backgroundcolor": "#E5ECF6",
            "gridcolor": "white",
            "gridwidth": 2,
            "linecolor": "white",
            "showbackground": true,
            "ticks": "",
            "zerolinecolor": "white"
           }
          },
          "shapedefaults": {
           "line": {
            "color": "#2a3f5f"
           }
          },
          "ternary": {
           "aaxis": {
            "gridcolor": "white",
            "linecolor": "white",
            "ticks": ""
           },
           "baxis": {
            "gridcolor": "white",
            "linecolor": "white",
            "ticks": ""
           },
           "bgcolor": "#E5ECF6",
           "caxis": {
            "gridcolor": "white",
            "linecolor": "white",
            "ticks": ""
           }
          },
          "title": {
           "x": 0.05
          },
          "xaxis": {
           "automargin": true,
           "gridcolor": "white",
           "linecolor": "white",
           "ticks": "",
           "title": {
            "standoff": 15
           },
           "zerolinecolor": "white",
           "zerolinewidth": 2
          },
          "yaxis": {
           "automargin": true,
           "gridcolor": "white",
           "linecolor": "white",
           "ticks": "",
           "title": {
            "standoff": 15
           },
           "zerolinecolor": "white",
           "zerolinewidth": 2
          }
         }
        }
       }
      },
      "text/html": [
       "<div>                            <div id=\"a13ec1ba-5045-463e-8d32-1974c4e798d2\" class=\"plotly-graph-div\" style=\"height:525px; width:100%;\"></div>            <script type=\"text/javascript\">                require([\"plotly\"], function(Plotly) {                    window.PLOTLYENV=window.PLOTLYENV || {};                                    if (document.getElementById(\"a13ec1ba-5045-463e-8d32-1974c4e798d2\")) {                    Plotly.newPlot(                        \"a13ec1ba-5045-463e-8d32-1974c4e798d2\",                        [{\"cells\":{\"values\":[[\"ton_iot_thermo\",\"bot_iot\",\"bot_iot\",\"bot_iot\",\"ton_iot_fridge\",\"ton_iot_garage\",\"ton_iot_gps\",\"ton_iot_modbus\",\"ton_iot_light\",\"ton_iot_thermo\",\"ton_iot_weather\",\"bot_iot\",\"bot_iot\",\"bot_iot\",\"bot_iot\",\"bot_iot\",\"ton_iot_fridge\",\"ton_iot_fridge\",\"ton_iot_fridge\",\"ton_iot_fridge\",\"ton_iot_fridge\",\"ton_iot_fridge\",\"ton_iot_fridge\",\"ton_iot_fridge\",\"ton_iot_garage\",\"ton_iot_garage\",\"ton_iot_garage\",\"ton_iot_garage\",\"ton_iot_garage\",\"ton_iot_garage\",\"ton_iot_garage\",\"ton_iot_garage\",\"ton_iot_gps\",\"ton_iot_gps\",\"ton_iot_gps\",\"ton_iot_gps\",\"ton_iot_gps\",\"ton_iot_gps\",\"ton_iot_gps\",\"ton_iot_gps\",\"ton_iot_light\",\"ton_iot_light\",\"ton_iot_light\",\"ton_iot_light\",\"ton_iot_light\",\"ton_iot_light\",\"ton_iot_light\",\"ton_iot_light\",\"ton_iot_modbus\",\"ton_iot_modbus\",\"ton_iot_modbus\",\"ton_iot_modbus\",\"ton_iot_modbus\",\"ton_iot_modbus\",\"ton_iot_modbus\",\"ton_iot_modbus\",\"ton_iot_thermo\",\"ton_iot_thermo\",\"ton_iot_thermo\",\"ton_iot_thermo\",\"ton_iot_thermo\",\"ton_iot_thermo\",\"ton_iot_thermo\",\"ton_iot_thermo\",\"ton_iot_weather\",\"ton_iot_weather\",\"ton_iot_weather\",\"ton_iot_weather\",\"ton_iot_weather\",\"ton_iot_weather\",\"ton_iot_weather\",\"ton_iot_weather\"],[\"compose_svm\",\"vanilla_naive_bayes\",\"vanilla_svm\",\"compose_label_propagation\",\"scargc_svm\",\"scargc_svm\",\"scargc_svm\",\"scargc_svm\",\"scargc_svm\",\"scargc_svm\",\"scargc_svm\",\"fast_compose_label_propagation\",\"compose_naive_bayes\",\"fast_compose_naive_bayes\",\"compose_svm\",\"fast_compose_svm\",\"vanilla_naive_bayes\",\"vanilla_svm\",\"compose_label_propagation\",\"fast_compose_label_propagation\",\"compose_naive_bayes\",\"fast_compose_naive_bayes\",\"compose_svm\",\"fast_compose_svm\",\"vanilla_naive_bayes\",\"vanilla_svm\",\"compose_label_propagation\",\"fast_compose_label_propagation\",\"compose_naive_bayes\",\"fast_compose_naive_bayes\",\"compose_svm\",\"fast_compose_svm\",\"vanilla_naive_bayes\",\"vanilla_svm\",\"compose_label_propagation\",\"fast_compose_label_propagation\",\"compose_naive_bayes\",\"fast_compose_naive_bayes\",\"compose_svm\",\"fast_compose_svm\",\"vanilla_naive_bayes\",\"vanilla_svm\",\"compose_label_propagation\",\"fast_compose_label_propagation\",\"compose_naive_bayes\",\"fast_compose_naive_bayes\",\"compose_svm\",\"fast_compose_svm\",\"vanilla_naive_bayes\",\"vanilla_svm\",\"compose_label_propagation\",\"fast_compose_label_propagation\",\"compose_naive_bayes\",\"fast_compose_naive_bayes\",\"compose_svm\",\"fast_compose_svm\",\"vanilla_naive_bayes\",\"vanilla_svm\",\"compose_label_propagation\",\"fast_compose_label_propagation\",\"compose_naive_bayes\",\"fast_compose_naive_bayes\",\"compose_svm\",\"fast_compose_svm\",\"vanilla_naive_bayes\",\"vanilla_svm\",\"compose_label_propagation\",\"fast_compose_label_propagation\",\"compose_naive_bayes\",\"fast_compose_naive_bayes\",\"compose_svm\",\"fast_compose_svm\"],[0.43137492609405714,0.9999973010794333,0.9870627242634311,0.917052780341237,0.9955245524552455,0.9951262626262627,0.9162709149533917,0.6865487397685905,0.9956818181818181,0.9536563754897659,0.9326757964257965,0.9081208728107949,0.4743115089085885,0.9762614329268292,0.6255037720201588,0.4170560147662828,0.9990862944162435,0.9991878172588833,0.9690335491552576,0.9066967856613831,0.5031150295208705,0.9775315683145837,0.4975762560160097,0.622089500122519,0.9496428571428571,0.9977551020408164,0.9546760604151302,0.854757803907888,0.5127211331015552,0.4801713208436434,0.8397960443781618,0.35862237856124296,0.9465979381443296,0.8543814432989688,0.8781047204682099,0.8576525000620976,0.4701790457331343,0.9846003780858478,0.4013671770104862,0.33882978010339193,0.9597448979591836,0.9918877551020415,0.9787338616260852,0.9866875,0.4699104286299538,0.9845232540524163,0.44608162026052883,0.3852398585752004,0.9989285714285714,0.6898214285714286,0.9866420980673825,0.8671678863396625,0.5220408000031029,0.9806125453072856,0.4973822739023369,0.36485067474152233,0.9599425287356326,0.8591379310344831,0.8962168099556981,0.8394943833314678,0.48447695714025985,0.9635755784865541,0.631943108203137,0.37782845330362735,0.9474226804123707,0.6261855670103095,0.9003925067382429,0.8359668941881236,0.5094663669696731,0.9681170084456281,0.7226519156106939,0.37448924198541833],[0.5066257883499222,0.9999986340043406,0.5101424840681755,0.9253592348561918,0.9954606617316015,0.9950278640235649,0.9196840485021227,0.5,0.9954814618644068,0.93282029534424,0.9187907102404208,0.5731816699282453,0.49976626818654724,0.5030067802386257,0.4969984565375247,0.5,0.9991666666666668,0.999245283018868,0.9715696642395408,0.5645994832041343,0.4925710676367175,0.49929733816923744,0.49817657488283457,0.5000859247135843,0.9406703247391913,0.9975111162158073,0.9585441132746872,0.8463235509496478,0.4983101203623485,0.5010629960399503,0.5000940016672878,0.5,0.9359499728297282,0.8493505729569871,0.9071404129650793,0.8495849412597529,0.4973135722864417,0.5023061994438409,0.5225009807515039,0.5,0.9516895463656426,0.9907167607928524,0.9778191331835138,0.5827087102610494,0.5033839975697678,0.49549021824056355,0.49248533432185865,0.5,0.9987142857142857,0.509783962733909,0.989149538122316,0.5622476377872062,0.4993280217639606,0.5081418686789705,0.5001202254648471,0.5,0.9411382752381402,0.7893493894470489,0.9027332276615481,0.8396881255828226,0.49540543963784645,0.5059675330698895,0.5033259972032461,0.5,0.9367618053437335,0.5504254993921267,0.9064969656249062,0.836265247040686,0.5126483368204338,0.5196312521272373,0.499811154341962,0.5],[4218.615135192871,44.43472099304199,445.1283149719238,125.71933436393738,2.4023189544677734,1.752997875213623,24.543755292892456,50.39387559890747,1.6616604328155518,17.773067951202393,34.8916232585907,1.2911288738250732,59.92740559577942,1.2360126972198486,18.861407995224,7.203804016113281,3.458777904510498,3.102501630783081,130.2109763622284,1.4389383792877197,30.89027166366577,1.3138353824615479,53.3546986579895,1.3617429733276367,3.0993857383728027,3.0900826454162598,154.3738980293274,12.981052875518799,54.10423040390015,1.5275051593780518,15.528977155685425,8.321149349212646,3.0842437744140625,3.2425377368927,149.8250229358673,9.846181154251099,42.729900598526,1.2634491920471191,23.08081364631653,9.294079065322876,3.0774776935577393,3.100375175476074,147.92894196510315,1.258610486984253,57.469712257385254,1.2647480964660645,37.83703851699829,8.341876029968262,3.063265800476074,3.2617194652557373,134.97198009490967,1.7082440853118896,35.933290004730225,1.1815567016601562,27.97119665145874,2.8295085430145264,3.0909616947174072,3.3193507194519043,131.102201461792,11.19302749633789,44.363988637924194,1.2827460765838623,60.13839054107666,2.702193021774292,3.1039397716522217,3.4547300338745117,130.4265537261963,11.061548233032227,36.97406196594238,1.3001060485839844,35.450788497924805,8.542848348617554]]},\"header\":{\"values\":[\"Dataset\",\"Experiment\",\"Avg Accuracy\",\"Avg ROC AUC\",\"Total Exec Time in Seconds\"]},\"type\":\"table\"}],                        {\"template\":{\"data\":{\"histogram2dcontour\":[{\"type\":\"histogram2dcontour\",\"colorbar\":{\"outlinewidth\":0,\"ticks\":\"\"},\"colorscale\":[[0.0,\"#0d0887\"],[0.1111111111111111,\"#46039f\"],[0.2222222222222222,\"#7201a8\"],[0.3333333333333333,\"#9c179e\"],[0.4444444444444444,\"#bd3786\"],[0.5555555555555556,\"#d8576b\"],[0.6666666666666666,\"#ed7953\"],[0.7777777777777778,\"#fb9f3a\"],[0.8888888888888888,\"#fdca26\"],[1.0,\"#f0f921\"]]}],\"choropleth\":[{\"type\":\"choropleth\",\"colorbar\":{\"outlinewidth\":0,\"ticks\":\"\"}}],\"histogram2d\":[{\"type\":\"histogram2d\",\"colorbar\":{\"outlinewidth\":0,\"ticks\":\"\"},\"colorscale\":[[0.0,\"#0d0887\"],[0.1111111111111111,\"#46039f\"],[0.2222222222222222,\"#7201a8\"],[0.3333333333333333,\"#9c179e\"],[0.4444444444444444,\"#bd3786\"],[0.5555555555555556,\"#d8576b\"],[0.6666666666666666,\"#ed7953\"],[0.7777777777777778,\"#fb9f3a\"],[0.8888888888888888,\"#fdca26\"],[1.0,\"#f0f921\"]]}],\"heatmap\":[{\"type\":\"heatmap\",\"colorbar\":{\"outlinewidth\":0,\"ticks\":\"\"},\"colorscale\":[[0.0,\"#0d0887\"],[0.1111111111111111,\"#46039f\"],[0.2222222222222222,\"#7201a8\"],[0.3333333333333333,\"#9c179e\"],[0.4444444444444444,\"#bd3786\"],[0.5555555555555556,\"#d8576b\"],[0.6666666666666666,\"#ed7953\"],[0.7777777777777778,\"#fb9f3a\"],[0.8888888888888888,\"#fdca26\"],[1.0,\"#f0f921\"]]}],\"heatmapgl\":[{\"type\":\"heatmapgl\",\"colorbar\":{\"outlinewidth\":0,\"ticks\":\"\"},\"colorscale\":[[0.0,\"#0d0887\"],[0.1111111111111111,\"#46039f\"],[0.2222222222222222,\"#7201a8\"],[0.3333333333333333,\"#9c179e\"],[0.4444444444444444,\"#bd3786\"],[0.5555555555555556,\"#d8576b\"],[0.6666666666666666,\"#ed7953\"],[0.7777777777777778,\"#fb9f3a\"],[0.8888888888888888,\"#fdca26\"],[1.0,\"#f0f921\"]]}],\"contourcarpet\":[{\"type\":\"contourcarpet\",\"colorbar\":{\"outlinewidth\":0,\"ticks\":\"\"}}],\"contour\":[{\"type\":\"contour\",\"colorbar\":{\"outlinewidth\":0,\"ticks\":\"\"},\"colorscale\":[[0.0,\"#0d0887\"],[0.1111111111111111,\"#46039f\"],[0.2222222222222222,\"#7201a8\"],[0.3333333333333333,\"#9c179e\"],[0.4444444444444444,\"#bd3786\"],[0.5555555555555556,\"#d8576b\"],[0.6666666666666666,\"#ed7953\"],[0.7777777777777778,\"#fb9f3a\"],[0.8888888888888888,\"#fdca26\"],[1.0,\"#f0f921\"]]}],\"surface\":[{\"type\":\"surface\",\"colorbar\":{\"outlinewidth\":0,\"ticks\":\"\"},\"colorscale\":[[0.0,\"#0d0887\"],[0.1111111111111111,\"#46039f\"],[0.2222222222222222,\"#7201a8\"],[0.3333333333333333,\"#9c179e\"],[0.4444444444444444,\"#bd3786\"],[0.5555555555555556,\"#d8576b\"],[0.6666666666666666,\"#ed7953\"],[0.7777777777777778,\"#fb9f3a\"],[0.8888888888888888,\"#fdca26\"],[1.0,\"#f0f921\"]]}],\"mesh3d\":[{\"type\":\"mesh3d\",\"colorbar\":{\"outlinewidth\":0,\"ticks\":\"\"}}],\"scatter\":[{\"fillpattern\":{\"fillmode\":\"overlay\",\"size\":10,\"solidity\":0.2},\"type\":\"scatter\"}],\"parcoords\":[{\"type\":\"parcoords\",\"line\":{\"colorbar\":{\"outlinewidth\":0,\"ticks\":\"\"}}}],\"scatterpolargl\":[{\"type\":\"scatterpolargl\",\"marker\":{\"colorbar\":{\"outlinewidth\":0,\"ticks\":\"\"}}}],\"bar\":[{\"error_x\":{\"color\":\"#2a3f5f\"},\"error_y\":{\"color\":\"#2a3f5f\"},\"marker\":{\"line\":{\"color\":\"#E5ECF6\",\"width\":0.5},\"pattern\":{\"fillmode\":\"overlay\",\"size\":10,\"solidity\":0.2}},\"type\":\"bar\"}],\"scattergeo\":[{\"type\":\"scattergeo\",\"marker\":{\"colorbar\":{\"outlinewidth\":0,\"ticks\":\"\"}}}],\"scatterpolar\":[{\"type\":\"scatterpolar\",\"marker\":{\"colorbar\":{\"outlinewidth\":0,\"ticks\":\"\"}}}],\"histogram\":[{\"marker\":{\"pattern\":{\"fillmode\":\"overlay\",\"size\":10,\"solidity\":0.2}},\"type\":\"histogram\"}],\"scattergl\":[{\"type\":\"scattergl\",\"marker\":{\"colorbar\":{\"outlinewidth\":0,\"ticks\":\"\"}}}],\"scatter3d\":[{\"type\":\"scatter3d\",\"line\":{\"colorbar\":{\"outlinewidth\":0,\"ticks\":\"\"}},\"marker\":{\"colorbar\":{\"outlinewidth\":0,\"ticks\":\"\"}}}],\"scattermapbox\":[{\"type\":\"scattermapbox\",\"marker\":{\"colorbar\":{\"outlinewidth\":0,\"ticks\":\"\"}}}],\"scatterternary\":[{\"type\":\"scatterternary\",\"marker\":{\"colorbar\":{\"outlinewidth\":0,\"ticks\":\"\"}}}],\"scattercarpet\":[{\"type\":\"scattercarpet\",\"marker\":{\"colorbar\":{\"outlinewidth\":0,\"ticks\":\"\"}}}],\"carpet\":[{\"aaxis\":{\"endlinecolor\":\"#2a3f5f\",\"gridcolor\":\"white\",\"linecolor\":\"white\",\"minorgridcolor\":\"white\",\"startlinecolor\":\"#2a3f5f\"},\"baxis\":{\"endlinecolor\":\"#2a3f5f\",\"gridcolor\":\"white\",\"linecolor\":\"white\",\"minorgridcolor\":\"white\",\"startlinecolor\":\"#2a3f5f\"},\"type\":\"carpet\"}],\"table\":[{\"cells\":{\"fill\":{\"color\":\"#EBF0F8\"},\"line\":{\"color\":\"white\"}},\"header\":{\"fill\":{\"color\":\"#C8D4E3\"},\"line\":{\"color\":\"white\"}},\"type\":\"table\"}],\"barpolar\":[{\"marker\":{\"line\":{\"color\":\"#E5ECF6\",\"width\":0.5},\"pattern\":{\"fillmode\":\"overlay\",\"size\":10,\"solidity\":0.2}},\"type\":\"barpolar\"}],\"pie\":[{\"automargin\":true,\"type\":\"pie\"}]},\"layout\":{\"autotypenumbers\":\"strict\",\"colorway\":[\"#636efa\",\"#EF553B\",\"#00cc96\",\"#ab63fa\",\"#FFA15A\",\"#19d3f3\",\"#FF6692\",\"#B6E880\",\"#FF97FF\",\"#FECB52\"],\"font\":{\"color\":\"#2a3f5f\"},\"hovermode\":\"closest\",\"hoverlabel\":{\"align\":\"left\"},\"paper_bgcolor\":\"white\",\"plot_bgcolor\":\"#E5ECF6\",\"polar\":{\"bgcolor\":\"#E5ECF6\",\"angularaxis\":{\"gridcolor\":\"white\",\"linecolor\":\"white\",\"ticks\":\"\"},\"radialaxis\":{\"gridcolor\":\"white\",\"linecolor\":\"white\",\"ticks\":\"\"}},\"ternary\":{\"bgcolor\":\"#E5ECF6\",\"aaxis\":{\"gridcolor\":\"white\",\"linecolor\":\"white\",\"ticks\":\"\"},\"baxis\":{\"gridcolor\":\"white\",\"linecolor\":\"white\",\"ticks\":\"\"},\"caxis\":{\"gridcolor\":\"white\",\"linecolor\":\"white\",\"ticks\":\"\"}},\"coloraxis\":{\"colorbar\":{\"outlinewidth\":0,\"ticks\":\"\"}},\"colorscale\":{\"sequential\":[[0.0,\"#0d0887\"],[0.1111111111111111,\"#46039f\"],[0.2222222222222222,\"#7201a8\"],[0.3333333333333333,\"#9c179e\"],[0.4444444444444444,\"#bd3786\"],[0.5555555555555556,\"#d8576b\"],[0.6666666666666666,\"#ed7953\"],[0.7777777777777778,\"#fb9f3a\"],[0.8888888888888888,\"#fdca26\"],[1.0,\"#f0f921\"]],\"sequentialminus\":[[0.0,\"#0d0887\"],[0.1111111111111111,\"#46039f\"],[0.2222222222222222,\"#7201a8\"],[0.3333333333333333,\"#9c179e\"],[0.4444444444444444,\"#bd3786\"],[0.5555555555555556,\"#d8576b\"],[0.6666666666666666,\"#ed7953\"],[0.7777777777777778,\"#fb9f3a\"],[0.8888888888888888,\"#fdca26\"],[1.0,\"#f0f921\"]],\"diverging\":[[0,\"#8e0152\"],[0.1,\"#c51b7d\"],[0.2,\"#de77ae\"],[0.3,\"#f1b6da\"],[0.4,\"#fde0ef\"],[0.5,\"#f7f7f7\"],[0.6,\"#e6f5d0\"],[0.7,\"#b8e186\"],[0.8,\"#7fbc41\"],[0.9,\"#4d9221\"],[1,\"#276419\"]]},\"xaxis\":{\"gridcolor\":\"white\",\"linecolor\":\"white\",\"ticks\":\"\",\"title\":{\"standoff\":15},\"zerolinecolor\":\"white\",\"automargin\":true,\"zerolinewidth\":2},\"yaxis\":{\"gridcolor\":\"white\",\"linecolor\":\"white\",\"ticks\":\"\",\"title\":{\"standoff\":15},\"zerolinecolor\":\"white\",\"automargin\":true,\"zerolinewidth\":2},\"scene\":{\"xaxis\":{\"backgroundcolor\":\"#E5ECF6\",\"gridcolor\":\"white\",\"linecolor\":\"white\",\"showbackground\":true,\"ticks\":\"\",\"zerolinecolor\":\"white\",\"gridwidth\":2},\"yaxis\":{\"backgroundcolor\":\"#E5ECF6\",\"gridcolor\":\"white\",\"linecolor\":\"white\",\"showbackground\":true,\"ticks\":\"\",\"zerolinecolor\":\"white\",\"gridwidth\":2},\"zaxis\":{\"backgroundcolor\":\"#E5ECF6\",\"gridcolor\":\"white\",\"linecolor\":\"white\",\"showbackground\":true,\"ticks\":\"\",\"zerolinecolor\":\"white\",\"gridwidth\":2}},\"shapedefaults\":{\"line\":{\"color\":\"#2a3f5f\"}},\"annotationdefaults\":{\"arrowcolor\":\"#2a3f5f\",\"arrowhead\":0,\"arrowwidth\":1},\"geo\":{\"bgcolor\":\"white\",\"landcolor\":\"#E5ECF6\",\"subunitcolor\":\"white\",\"showland\":true,\"showlakes\":true,\"lakecolor\":\"white\"},\"title\":{\"x\":0.05},\"mapbox\":{\"style\":\"light\"}}}},                        {\"responsive\": true}                    ).then(function(){\n",
       "                            \n",
       "var gd = document.getElementById('a13ec1ba-5045-463e-8d32-1974c4e798d2');\n",
       "var x = new MutationObserver(function (mutations, observer) {{\n",
       "        var display = window.getComputedStyle(gd).display;\n",
       "        if (!display || display === 'none') {{\n",
       "            console.log([gd, 'removed!']);\n",
       "            Plotly.purge(gd);\n",
       "            observer.disconnect();\n",
       "        }}\n",
       "}});\n",
       "\n",
       "// Listen for the removal of the full notebook cells\n",
       "var notebookContainer = gd.closest('#notebook-container');\n",
       "if (notebookContainer) {{\n",
       "    x.observe(notebookContainer, {childList: true});\n",
       "}}\n",
       "\n",
       "// Listen for the clearing of the current output cell\n",
       "var outputEl = gd.closest('.output');\n",
       "if (outputEl) {{\n",
       "    x.observe(outputEl, {childList: true});\n",
       "}}\n",
       "\n",
       "                        })                };                });            </script>        </div>"
      ]
     },
     "metadata": {},
     "output_type": "display_data"
    }
   ],
   "source": [
    "import results\n",
    "\n",
    "res = results.Results()\n",
    "res.provide_results()\n",
    "\n"
   ]
  },
  {
   "cell_type": "code",
   "execution_count": null,
   "metadata": {},
   "outputs": [],
   "source": []
  }
 ],
 "metadata": {
  "kernelspec": {
   "display_name": "Python 3 (ipykernel)",
   "language": "python",
   "name": "python3"
  },
  "language_info": {
   "codemirror_mode": {
    "name": "ipython",
    "version": 3
   },
   "file_extension": ".py",
   "mimetype": "text/x-python",
   "name": "python",
   "nbconvert_exporter": "python",
   "pygments_lexer": "ipython3",
   "version": "3.9.7"
  },
  "vscode": {
   "interpreter": {
    "hash": "34e29972ed6840bd13ec5496938f0067875c9f07a87720aad38d7f2badc13c6e"
   }
  }
 },
 "nbformat": 4,
 "nbformat_minor": 2
}
